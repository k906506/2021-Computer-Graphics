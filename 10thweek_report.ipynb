{
  "nbformat": 4,
  "nbformat_minor": 0,
  "metadata": {
    "colab": {
      "name": "10thweek_report.ipynb",
      "provenance": [],
      "collapsed_sections": [],
      "toc_visible": true
    },
    "kernelspec": {
      "name": "python3",
      "display_name": "Python 3"
    },
    "language_info": {
      "name": "python"
    },
    "accelerator": "GPU"
  },
  "cells": [
    {
      "cell_type": "code",
      "metadata": {
        "id": "wlAQAedbUaJ_"
      },
      "source": [
        "import tensorflow as tf\n",
        "from tensorflow import keras\n",
        "import matplotlib.pyplot as plt\n",
        "import numpy as np"
      ],
      "execution_count": 1,
      "outputs": []
    },
    {
      "cell_type": "code",
      "metadata": {
        "colab": {
          "base_uri": "https://localhost:8080/"
        },
        "id": "erFJhyfKUbKe",
        "outputId": "9382df46-e2e8-474b-cb6b-d8e0cc7625d7"
      },
      "source": [
        "cifar10 = tf.keras.datasets.cifar10\n",
        "\n",
        "(train_inputs, train_labels), (test_inputs, test_labels) = cifar10.load_data()"
      ],
      "execution_count": 2,
      "outputs": [
        {
          "output_type": "stream",
          "name": "stdout",
          "text": [
            "A local file was found, but it seems to be incomplete or outdated because the auto file hash does not match the original value of 6d958be074577803d12ecdefd02955f39262c83c16fe9348329d7fe0b5c001ce so we will re-download the data.\n",
            "Downloading data from https://www.cs.toronto.edu/~kriz/cifar-10-python.tar.gz\n",
            "170500096/170498071 [==============================] - 2s 0us/step\n",
            "170508288/170498071 [==============================] - 2s 0us/step\n"
          ]
        }
      ]
    },
    {
      "cell_type": "code",
      "metadata": {
        "colab": {
          "base_uri": "https://localhost:8080/"
        },
        "id": "W9Tu0xM3UbdV",
        "outputId": "1e9e4d5e-76ca-4732-fa38-1db7f7e68c63"
      },
      "source": [
        "print(train_inputs.shape)\n",
        "print(train_labels.shape)"
      ],
      "execution_count": 3,
      "outputs": [
        {
          "output_type": "stream",
          "name": "stdout",
          "text": [
            "(50000, 32, 32, 3)\n",
            "(50000, 1)\n"
          ]
        }
      ]
    },
    {
      "cell_type": "code",
      "metadata": {
        "colab": {
          "base_uri": "https://localhost:8080/",
          "height": 266
        },
        "id": "Oa73A2z3UcSl",
        "outputId": "476f47ec-63a2-4c23-ef02-3452bee69527"
      },
      "source": [
        "plt.imshow(train_inputs[0])\n",
        "plt.show()"
      ],
      "execution_count": 4,
      "outputs": [
        {
          "output_type": "display_data",
          "data": {
            "image/png": "[encoded data removed]",
            "text/plain": [
              "<Figure size 432x288 with 1 Axes>"
            ]
          },
          "metadata": {
            "needs_background": "light"
          }
        }
      ]
    },
    {
      "cell_type": "code",
      "metadata": {
        "id": "F3jblvc6UdWs"
      },
      "source": [
        "train_inputs = train_inputs / 255.0\n",
        "test_inputs = test_inputs / 255.0"
      ],
      "execution_count": 5,
      "outputs": []
    },
    {
      "cell_type": "code",
      "metadata": {
        "id": "NMAyIpxYUeXM"
      },
      "source": [
        "model = keras.Sequential([\n",
        "                          keras.Input(shape=(32,32,3)),\n",
        "                          keras.layers.Flatten(),\n",
        "                          keras.layers.Dense(128,activation='relu'), # 128개의 노드로\n",
        "                          keras.layers.Dense(10,activation='softmax'), # 10개의 노드로\n",
        "                          ])"
      ],
      "execution_count": 6,
      "outputs": []
    },
    {
      "cell_type": "code",
      "metadata": {
        "colab": {
          "base_uri": "https://localhost:8080/"
        },
        "id": "-sG-nCQQUe91",
        "outputId": "04617b70-802b-46a6-ec67-50a2fabd2590"
      },
      "source": [
        "model.summary() # 모델 생성"
      ],
      "execution_count": 7,
      "outputs": [
        {
          "output_type": "stream",
          "name": "stdout",
          "text": [
            "Model: \"sequential\"\n",
            "_________________________________________________________________\n",
            " Layer (type)                Output Shape              Param #   \n",
            "=================================================================\n",
            " flatten (Flatten)           (None, 3072)              0         \n",
            "                                                                 \n",
            " dense (Dense)               (None, 128)               393344    \n",
            "                                                                 \n",
            " dense_1 (Dense)             (None, 10)                1290      \n",
            "                                                                 \n",
            "=================================================================\n",
            "Total params: 394,634\n",
            "Trainable params: 394,634\n",
            "Non-trainable params: 0\n",
            "_________________________________________________________________\n"
          ]
        }
      ]
    },
    {
      "cell_type": "code",
      "metadata": {
        "colab": {
          "base_uri": "https://localhost:8080/"
        },
        "id": "kgtfzbjTUfr9",
        "outputId": "3c2c3f2c-d83e-4c17-ce73-d088c4cf42ec"
      },
      "source": [
        "model_flatten = tf.keras.Model(inputs=model.input, outputs=model.layers[0].output)\n",
        "test_output1 = model_flatten(tf.expand_dims(train_inputs[0],axis=0))\n",
        "print(test_output1)"
      ],
      "execution_count": 8,
      "outputs": [
        {
          "output_type": "stream",
          "name": "stdout",
          "text": [
            "tf.Tensor([[0.23137255 0.24313726 0.24705882 ... 0.48235294 0.36078432 0.28235295]], shape=(1, 3072), dtype=float32)\n"
          ]
        }
      ]
    },
    {
      "cell_type": "code",
      "metadata": {
        "colab": {
          "base_uri": "https://localhost:8080/"
        },
        "id": "uZTh5SyzUhUk",
        "outputId": "c1125d17-c839-4112-b466-d2a46fc9c949"
      },
      "source": [
        "model_dense1 = tf.keras.Model(inputs=model.input, outputs=model.layers[1].output)\n",
        "test_output2 = model_dense1(tf.expand_dims(train_inputs[0],axis=0))\n",
        "print(test_output2)"
      ],
      "execution_count": 9,
      "outputs": [
        {
          "output_type": "stream",
          "name": "stdout",
          "text": [
            "tf.Tensor(\n",
            "[[0.         0.573325   0.1382064  0.97816825 0.6487957  0.79666555\n",
            "  0.37408477 0.         0.39611307 0.         0.         0.4855346\n",
            "  0.         0.         0.         0.56171864 0.         1.693476\n",
            "  0.48519036 0.         0.16630268 0.         0.24851197 0.\n",
            "  0.         0.4875059  0.00487781 0.5669669  0.35476756 0.81353533\n",
            "  0.         0.         0.         0.4382488  0.         0.\n",
            "  0.         0.         0.0429295  0.         0.         0.\n",
            "  0.57544863 0.31186473 0.         0.29974824 0.         0.36037034\n",
            "  0.         0.         0.         0.         0.5368997  0.1607547\n",
            "  0.65558934 0.         0.08624989 0.         0.         0.\n",
            "  0.         0.49909568 0.         0.         0.         0.4577199\n",
            "  1.1726401  0.08093214 0.2243222  0.         0.02530523 0.28894514\n",
            "  0.         0.         0.6509993  0.2061895  0.18647347 0.\n",
            "  0.         0.42095256 0.0444164  0.         0.58651316 0.\n",
            "  0.3233993  0.42226094 0.22637793 0.         0.         0.\n",
            "  0.         0.         0.         0.19236286 0.00895244 0.52814674\n",
            "  0.12727444 0.04892266 0.10950169 0.33470094 0.6688715  0.\n",
            "  0.         0.9133558  0.         0.         0.11718778 0.\n",
            "  0.         0.         0.43958104 1.0130335  0.41369855 0.6659924\n",
            "  0.         1.1327254  0.         0.03127211 0.         0.4115648\n",
            "  0.69326913 0.         0.         0.         0.         1.3224807\n",
            "  0.6607962  0.        ]], shape=(1, 128), dtype=float32)\n"
          ]
        }
      ]
    },
    {
      "cell_type": "code",
      "metadata": {
        "colab": {
          "base_uri": "https://localhost:8080/"
        },
        "id": "teUF2itnUjR0",
        "outputId": "0ee4bbc5-7484-408c-d928-c4ff5c71d3e9"
      },
      "source": [
        "model_dense2 = tf.keras.Model(inputs=model.input, outputs=model.layers[2].output)\n",
        "test_output3 = model_dense2(tf.expand_dims(train_inputs[0],axis=0))\n",
        "print(test_output3)"
      ],
      "execution_count": 10,
      "outputs": [
        {
          "output_type": "stream",
          "name": "stdout",
          "text": [
            "tf.Tensor(\n",
            "[[0.07970815 0.17447697 0.10763831 0.09127273 0.13720097 0.04772007\n",
            "  0.06577889 0.09688351 0.15034632 0.04897407]], shape=(1, 10), dtype=float32)\n"
          ]
        }
      ]
    },
    {
      "cell_type": "code",
      "metadata": {
        "id": "k5WYqMWwUj8V"
      },
      "source": [
        "model.compile(optimizer='Adam',\n",
        "              loss=keras.losses.SparseCategoricalCrossentropy(from_logits=True),\n",
        "              metrics=['acc'])"
      ],
      "execution_count": 11,
      "outputs": []
    },
    {
      "cell_type": "code",
      "metadata": {
        "colab": {
          "base_uri": "https://localhost:8080/"
        },
        "id": "Z7JAVkYaUk3M",
        "outputId": "61143fef-5a54-4851-9a9c-b4f42c12c123"
      },
      "source": [
        "model.fit(x=train_inputs,\n",
        "          y=train_labels,\n",
        "          batch_size=8,\n",
        "          epochs=20,\n",
        "          validation_data=(test_inputs,test_labels))"
      ],
      "execution_count": 12,
      "outputs": [
        {
          "output_type": "stream",
          "name": "stdout",
          "text": [
            "Epoch 1/20\n"
          ]
        },
        {
          "output_type": "stream",
          "name": "stderr",
          "text": [
            "/usr/local/lib/python3.7/dist-packages/tensorflow/python/util/dispatch.py:1096: UserWarning: \"`sparse_categorical_crossentropy` received `from_logits=True`, but the `output` argument was produced by a sigmoid or softmax activation and thus does not represent logits. Was this intended?\"\n",
            "  return dispatch_target(*args, **kwargs)\n"
          ]
        },
        {
          "output_type": "stream",
          "name": "stdout",
          "text": [
            "6250/6250 [==============================] - 20s 3ms/step - loss: 1.9502 - acc: 0.2751 - val_loss: 1.8783 - val_acc: 0.3172\n",
            "Epoch 2/20\n",
            "6250/6250 [==============================] - 19s 3ms/step - loss: 1.8735 - acc: 0.3090 - val_loss: 1.8658 - val_acc: 0.3153\n",
            "Epoch 3/20\n",
            "6250/6250 [==============================] - 20s 3ms/step - loss: 1.8566 - acc: 0.3171 - val_loss: 1.8418 - val_acc: 0.3199\n",
            "Epoch 4/20\n",
            "6250/6250 [==============================] - 20s 3ms/step - loss: 1.8451 - acc: 0.3235 - val_loss: 1.8316 - val_acc: 0.3302\n",
            "Epoch 5/20\n",
            "6250/6250 [==============================] - 20s 3ms/step - loss: 1.8348 - acc: 0.3278 - val_loss: 1.8834 - val_acc: 0.3068\n",
            "Epoch 6/20\n",
            "6250/6250 [==============================] - 20s 3ms/step - loss: 1.8308 - acc: 0.3322 - val_loss: 1.8430 - val_acc: 0.3220\n",
            "Epoch 7/20\n",
            "6250/6250 [==============================] - 20s 3ms/step - loss: 1.8248 - acc: 0.3312 - val_loss: 1.8213 - val_acc: 0.3230\n",
            "Epoch 8/20\n",
            "6250/6250 [==============================] - 20s 3ms/step - loss: 1.8192 - acc: 0.3331 - val_loss: 1.8010 - val_acc: 0.3416\n",
            "Epoch 9/20\n",
            "6250/6250 [==============================] - 20s 3ms/step - loss: 1.8158 - acc: 0.3364 - val_loss: 1.8055 - val_acc: 0.3315\n",
            "Epoch 10/20\n",
            "6250/6250 [==============================] - 20s 3ms/step - loss: 1.8116 - acc: 0.3366 - val_loss: 1.8126 - val_acc: 0.3263\n",
            "Epoch 11/20\n",
            "6250/6250 [==============================] - 20s 3ms/step - loss: 1.8094 - acc: 0.3384 - val_loss: 1.8142 - val_acc: 0.3350\n",
            "Epoch 12/20\n",
            "6250/6250 [==============================] - 20s 3ms/step - loss: 1.8070 - acc: 0.3374 - val_loss: 1.8314 - val_acc: 0.3160\n",
            "Epoch 13/20\n",
            "6250/6250 [==============================] - 20s 3ms/step - loss: 1.8027 - acc: 0.3404 - val_loss: 1.8582 - val_acc: 0.3199\n",
            "Epoch 14/20\n",
            "6250/6250 [==============================] - 20s 3ms/step - loss: 1.8023 - acc: 0.3396 - val_loss: 1.8196 - val_acc: 0.3391\n",
            "Epoch 15/20\n",
            "6250/6250 [==============================] - 20s 3ms/step - loss: 1.7996 - acc: 0.3390 - val_loss: 1.8010 - val_acc: 0.3382\n",
            "Epoch 16/20\n",
            "6250/6250 [==============================] - 20s 3ms/step - loss: 1.7974 - acc: 0.3403 - val_loss: 1.8120 - val_acc: 0.3374\n",
            "Epoch 17/20\n",
            "6250/6250 [==============================] - 20s 3ms/step - loss: 1.7957 - acc: 0.3415 - val_loss: 1.8092 - val_acc: 0.3299\n",
            "Epoch 18/20\n",
            "6250/6250 [==============================] - 20s 3ms/step - loss: 1.7937 - acc: 0.3431 - val_loss: 1.7894 - val_acc: 0.3418\n",
            "Epoch 19/20\n",
            "6250/6250 [==============================] - 19s 3ms/step - loss: 1.7919 - acc: 0.3439 - val_loss: 1.8219 - val_acc: 0.3240\n",
            "Epoch 20/20\n",
            "6250/6250 [==============================] - 20s 3ms/step - loss: 1.7897 - acc: 0.3439 - val_loss: 1.7960 - val_acc: 0.3405\n"
          ]
        },
        {
          "output_type": "execute_result",
          "data": {
            "text/plain": [
              "<keras.callbacks.History at 0x7fc5b0129a90>"
            ]
          },
          "metadata": {},
          "execution_count": 12
        }
      ]
    },
    {
      "cell_type": "code",
      "metadata": {
        "id": "_cgGrlj-UlhE"
      },
      "source": [
        "model = keras.Sequential([\n",
        "                          keras.Input(shape=(32,32,3)),\n",
        "                          \n",
        "                          # 입력 이미지가 32*32*3이고  결과 이미지가 28*28*3\n",
        "                          # stride의 크기를 1로 줬으므로 kernel의 크기는 5*5*3, 차원은 12\n",
        "                          keras.layers.Conv2D(12, (5, 5), strides = (1, 1), padding = 'valid'),\n",
        "\n",
        "                          # MaxPooling\n",
        "                          keras.layers.MaxPool2D(),\n",
        "\n",
        "                          # 입력 이미지가 14*14*3이고  결과 이미지가 10*10*3\n",
        "                          # stride의 크기를 1로 줬으므로 kernel의 크기는 5*5*3, 차원은 8\n",
        "                          keras.layers.Conv2D(8, (5, 5), strides = (1, 1), padding = 'valid'),\n",
        "\n",
        "                          # flatten\n",
        "                          keras.layers.Flatten(),\n",
        "\n",
        "                           # 10개의 노드로 dense\n",
        "                          keras.layers.Dense(10,activation='softmax'),\n",
        "])"
      ],
      "execution_count": 21,
      "outputs": []
    },
    {
      "cell_type": "code",
      "metadata": {
        "id": "KwGvVNi0Uxzd"
      },
      "source": [
        "model.compile(optimizer='Adam',\n",
        "              loss=keras.losses.SparseCategoricalCrossentropy(from_logits=True),\n",
        "              metrics=['acc'])"
      ],
      "execution_count": 22,
      "outputs": []
    },
    {
      "cell_type": "code",
      "metadata": {
        "id": "65tItXIsUznx",
        "colab": {
          "base_uri": "https://localhost:8080/"
        },
        "outputId": "ff58ccdf-8882-4e44-c99f-1becfffea128"
      },
      "source": [
        "model.fit(x=train_inputs,\n",
        "          y=train_labels,\n",
        "          batch_size=8,\n",
        "          epochs=20,\n",
        "          validation_data=(test_inputs,test_labels))"
      ],
      "execution_count": 23,
      "outputs": [
        {
          "output_type": "stream",
          "name": "stdout",
          "text": [
            "Epoch 1/20\n"
          ]
        },
        {
          "output_type": "stream",
          "name": "stderr",
          "text": [
            "/usr/local/lib/python3.7/dist-packages/tensorflow/python/util/dispatch.py:1096: UserWarning: \"`sparse_categorical_crossentropy` received `from_logits=True`, but the `output` argument was produced by a sigmoid or softmax activation and thus does not represent logits. Was this intended?\"\n",
            "  return dispatch_target(*args, **kwargs)\n"
          ]
        },
        {
          "output_type": "stream",
          "name": "stdout",
          "text": [
            "6250/6250 [==============================] - 53s 4ms/step - loss: 1.6638 - acc: 0.4165 - val_loss: 1.4672 - val_acc: 0.4864\n",
            "Epoch 2/20\n",
            "6250/6250 [==============================] - 26s 4ms/step - loss: 1.4527 - acc: 0.5015 - val_loss: 1.5593 - val_acc: 0.4685\n",
            "Epoch 3/20\n",
            "6250/6250 [==============================] - 26s 4ms/step - loss: 1.3881 - acc: 0.5225 - val_loss: 1.3413 - val_acc: 0.5346\n",
            "Epoch 4/20\n",
            "6250/6250 [==============================] - 26s 4ms/step - loss: 1.3540 - acc: 0.5360 - val_loss: 1.3486 - val_acc: 0.5340\n",
            "Epoch 5/20\n",
            "6250/6250 [==============================] - 26s 4ms/step - loss: 1.3282 - acc: 0.5450 - val_loss: 1.3412 - val_acc: 0.5424\n",
            "Epoch 6/20\n",
            "6250/6250 [==============================] - 27s 4ms/step - loss: 1.3119 - acc: 0.5491 - val_loss: 1.3227 - val_acc: 0.5439\n",
            "Epoch 7/20\n",
            "6250/6250 [==============================] - 27s 4ms/step - loss: 1.3011 - acc: 0.5531 - val_loss: 1.3845 - val_acc: 0.5314\n",
            "Epoch 8/20\n",
            "6250/6250 [==============================] - 27s 4ms/step - loss: 1.2873 - acc: 0.5619 - val_loss: 1.3282 - val_acc: 0.5463\n",
            "Epoch 9/20\n",
            "6250/6250 [==============================] - 27s 4ms/step - loss: 1.2807 - acc: 0.5621 - val_loss: 1.3798 - val_acc: 0.5255\n",
            "Epoch 10/20\n",
            "6250/6250 [==============================] - 26s 4ms/step - loss: 1.2763 - acc: 0.5609 - val_loss: 1.3192 - val_acc: 0.5522\n",
            "Epoch 11/20\n",
            "6250/6250 [==============================] - 26s 4ms/step - loss: 1.2711 - acc: 0.5634 - val_loss: 1.3909 - val_acc: 0.5300\n",
            "Epoch 12/20\n",
            "6250/6250 [==============================] - 26s 4ms/step - loss: 1.2631 - acc: 0.5682 - val_loss: 1.3601 - val_acc: 0.5366\n",
            "Epoch 13/20\n",
            "6250/6250 [==============================] - 26s 4ms/step - loss: 1.2583 - acc: 0.5696 - val_loss: 1.3448 - val_acc: 0.5445\n",
            "Epoch 14/20\n",
            "6250/6250 [==============================] - 26s 4ms/step - loss: 1.2563 - acc: 0.5709 - val_loss: 1.4055 - val_acc: 0.5309\n",
            "Epoch 15/20\n",
            "6250/6250 [==============================] - 29s 5ms/step - loss: 1.2463 - acc: 0.5750 - val_loss: 1.4565 - val_acc: 0.5080\n",
            "Epoch 16/20\n",
            "6250/6250 [==============================] - 26s 4ms/step - loss: 1.2474 - acc: 0.5744 - val_loss: 1.3070 - val_acc: 0.5489\n",
            "Epoch 17/20\n",
            "6250/6250 [==============================] - 26s 4ms/step - loss: 1.2438 - acc: 0.5730 - val_loss: 1.3171 - val_acc: 0.5487\n",
            "Epoch 18/20\n",
            "6250/6250 [==============================] - 27s 4ms/step - loss: 1.2461 - acc: 0.5746 - val_loss: 1.3270 - val_acc: 0.5449\n",
            "Epoch 19/20\n",
            "6250/6250 [==============================] - 26s 4ms/step - loss: 1.2397 - acc: 0.5766 - val_loss: 1.3194 - val_acc: 0.5493\n",
            "Epoch 20/20\n",
            "6250/6250 [==============================] - 29s 5ms/step - loss: 1.2359 - acc: 0.5749 - val_loss: 1.3650 - val_acc: 0.5344\n"
          ]
        },
        {
          "output_type": "execute_result",
          "data": {
            "text/plain": [
              "<keras.callbacks.History at 0x7fc5415aa7d0>"
            ]
          },
          "metadata": {},
          "execution_count": 23
        }
      ]
    }
  ]
}