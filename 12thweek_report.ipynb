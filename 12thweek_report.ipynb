{
  "nbformat": 4,
  "nbformat_minor": 0,
  "metadata": {
    "colab": {
      "name": "asdfbd.ipynb",
      "provenance": [],
      "collapsed_sections": []
    },
    "kernelspec": {
      "name": "python3",
      "display_name": "Python 3"
    },
    "language_info": {
      "name": "python"
    },
    "accelerator": "GPU"
  },
  "cells": [
    {
      "cell_type": "code",
      "metadata": {
        "id": "HuIVO7H1VCnA"
      },
      "source": [
        "import matplotlib.pyplot as plt\n",
        "import numpy as np\n",
        "import os\n",
        "import PIL\n",
        "import tensorflow as tf\n",
        "import matplotlib.pyplot as plt\n",
        "\n",
        "\n",
        "from tensorflow import keras\n",
        "from tensorflow.keras import layers"
      ],
      "execution_count": null,
      "outputs": []
    },
    {
      "cell_type": "code",
      "metadata": {
        "colab": {
          "base_uri": "https://localhost:8080/"
        },
        "id": "OAdohE_AE9ud",
        "outputId": "ca558e51-db39-43e0-c5b0-8cf77f71d4ef"
      },
      "source": [
        "import pathlib\n",
        "dataset_url = \"https://storage.googleapis.com/download.tensorflow.org/example_images/flower_photos.tgz\"\n",
        "data_dir = tf.keras.utils.get_file('flower_photos', origin=dataset_url, untar=True)\n",
        "data_dir = pathlib.Path(data_dir)"
      ],
      "execution_count": null,
      "outputs": [
        {
          "output_type": "stream",
          "name": "stdout",
          "text": [
            "Downloading data from https://storage.googleapis.com/download.tensorflow.org/example_images/flower_photos.tgz\n",
            "228818944/228813984 [==============================] - 3s 0us/step\n",
            "228827136/228813984 [==============================] - 3s 0us/step\n"
          ]
        }
      ]
    },
    {
      "cell_type": "code",
      "metadata": {
        "id": "f2O9vK5UE_d_"
      },
      "source": [
        "input_shape = (224,224)\n",
        "batch_size = 32"
      ],
      "execution_count": null,
      "outputs": []
    },
    {
      "cell_type": "code",
      "metadata": {
        "colab": {
          "base_uri": "https://localhost:8080/"
        },
        "id": "7wHFpFBEFDX0",
        "outputId": "74ed7e6e-7520-4b24-dab3-802154241984"
      },
      "source": [
        "train_ds = tf.keras.preprocessing.image_dataset_from_directory(\n",
        "  data_dir,\n",
        "  validation_split=0.2,\n",
        "  subset=\"training\",\n",
        "  seed=123,\n",
        "  image_size=input_shape,\n",
        "  batch_size=batch_size)"
      ],
      "execution_count": null,
      "outputs": [
        {
          "output_type": "stream",
          "name": "stdout",
          "text": [
            "Found 3670 files belonging to 5 classes.\n",
            "Using 2936 files for training.\n"
          ]
        }
      ]
    },
    {
      "cell_type": "code",
      "metadata": {
        "colab": {
          "base_uri": "https://localhost:8080/"
        },
        "id": "KLSyeUmzFEnh",
        "outputId": "a8657a74-87b9-421f-a6ff-114f94a97e9d"
      },
      "source": [
        "val_ds = tf.keras.preprocessing.image_dataset_from_directory(\n",
        "  data_dir,\n",
        "  validation_split=0.2,\n",
        "  subset=\"validation\",\n",
        "  seed=123,\n",
        "  image_size=input_shape,\n",
        "  batch_size=batch_size)"
      ],
      "execution_count": null,
      "outputs": [
        {
          "output_type": "stream",
          "name": "stdout",
          "text": [
            "Found 3670 files belonging to 5 classes.\n",
            "Using 734 files for validation.\n"
          ]
        }
      ]
    },
    {
      "cell_type": "code",
      "metadata": {
        "id": "jtMmcuSTFF02"
      },
      "source": [
        "num_classes = 5\n",
        "input_shape = (224,224,3)\n",
        "\n",
        "model_input = keras.Input(shape=(224, 224,3), name=\"f_input\")\n",
        "x = layers.Conv2D(16, 3,padding=\"same\", activation=\"relu\")(model_input)\n",
        "x = layers.MaxPooling2D()(x)\n",
        "x = layers.Conv2D(32, 3,padding=\"same\", activation=\"relu\")(x)\n",
        "x = layers.MaxPooling2D()(x)\n",
        "x = layers.Conv2D(64, 3,padding=\"same\", activation=\"relu\")(x)\n",
        "x = layers.MaxPooling2D()(x)\n",
        "x = layers.Flatten()(x)\n",
        "x = layers.Dense(128,activation=\"relu\")(x)\n",
        "model_output = layers.Dense(num_classes,activation=\"softmax\")(x)\n",
        "\n",
        "functional_model = keras.Model(model_input, model_output, name=\"functional_model\")"
      ],
      "execution_count": null,
      "outputs": []
    },
    {
      "cell_type": "code",
      "metadata": {
        "colab": {
          "base_uri": "https://localhost:8080/"
        },
        "id": "nAnpj4pOGLUF",
        "outputId": "2ed948de-7487-45c0-b081-e3e9b4e083f8"
      },
      "source": [
        "functional_model.summary()"
      ],
      "execution_count": null,
      "outputs": [
        {
          "output_type": "stream",
          "name": "stdout",
          "text": [
            "Model: \"functional_model\"\n",
            "_________________________________________________________________\n",
            " Layer (type)                Output Shape              Param #   \n",
            "=================================================================\n",
            " f_input (InputLayer)        [(None, 224, 224, 3)]     0         \n",
            "                                                                 \n",
            " conv2d (Conv2D)             (None, 224, 224, 16)      448       \n",
            "                                                                 \n",
            " max_pooling2d (MaxPooling2D  (None, 112, 112, 16)     0         \n",
            " )                                                               \n",
            "                                                                 \n",
            " conv2d_1 (Conv2D)           (None, 112, 112, 32)      4640      \n",
            "                                                                 \n",
            " max_pooling2d_1 (MaxPooling  (None, 56, 56, 32)       0         \n",
            " 2D)                                                             \n",
            "                                                                 \n",
            " conv2d_2 (Conv2D)           (None, 56, 56, 64)        18496     \n",
            "                                                                 \n",
            " max_pooling2d_2 (MaxPooling  (None, 28, 28, 64)       0         \n",
            " 2D)                                                             \n",
            "                                                                 \n",
            " flatten (Flatten)           (None, 50176)             0         \n",
            "                                                                 \n",
            " dense (Dense)               (None, 128)               6422656   \n",
            "                                                                 \n",
            " dense_1 (Dense)             (None, 5)                 645       \n",
            "                                                                 \n",
            "=================================================================\n",
            "Total params: 6,446,885\n",
            "Trainable params: 6,446,885\n",
            "Non-trainable params: 0\n",
            "_________________________________________________________________\n"
          ]
        }
      ]
    },
    {
      "cell_type": "code",
      "metadata": {
        "id": "7o8wrOJHGLgR"
      },
      "source": [
        "functional_model.compile(optimizer='Adam',\n",
        "              loss=tf.keras.losses.SparseCategoricalCrossentropy(from_logits=True),\n",
        "              metrics=['acc'])"
      ],
      "execution_count": null,
      "outputs": []
    },
    {
      "cell_type": "code",
      "metadata": {
        "colab": {
          "base_uri": "https://localhost:8080/"
        },
        "id": "zShJkE39GVJx",
        "outputId": "213940ea-e39c-4236-e220-d1489019ec50"
      },
      "source": [
        "epochs=10\n",
        "history = functional_model.fit(\n",
        "  train_ds,\n",
        "  validation_data=val_ds,\n",
        "  epochs=epochs\n",
        ")"
      ],
      "execution_count": null,
      "outputs": [
        {
          "output_type": "stream",
          "name": "stdout",
          "text": [
            "Epoch 1/10\n"
          ]
        },
        {
          "output_type": "stream",
          "name": "stderr",
          "text": [
            "/usr/local/lib/python3.7/dist-packages/tensorflow/python/util/dispatch.py:1096: UserWarning: \"`sparse_categorical_crossentropy` received `from_logits=True`, but the `output` argument was produced by a sigmoid or softmax activation and thus does not represent logits. Was this intended?\"\n",
            "  return dispatch_target(*args, **kwargs)\n"
          ]
        },
        {
          "output_type": "stream",
          "name": "stdout",
          "text": [
            "92/92 [==============================] - 23s 107ms/step - loss: 38.8448 - acc: 0.2718 - val_loss: 1.5077 - val_acc: 0.3270\n",
            "Epoch 2/10\n",
            "92/92 [==============================] - 10s 101ms/step - loss: 1.4171 - acc: 0.4189 - val_loss: 1.5891 - val_acc: 0.3379\n",
            "Epoch 3/10\n",
            "92/92 [==============================] - 10s 100ms/step - loss: 1.0928 - acc: 0.5640 - val_loss: 1.7793 - val_acc: 0.3488\n",
            "Epoch 4/10\n",
            "92/92 [==============================] - 10s 99ms/step - loss: 0.7616 - acc: 0.7275 - val_loss: 2.4720 - val_acc: 0.3651\n",
            "Epoch 5/10\n",
            "92/92 [==============================] - 10s 100ms/step - loss: 0.6184 - acc: 0.7813 - val_loss: 2.7391 - val_acc: 0.3501\n",
            "Epoch 6/10\n",
            "92/92 [==============================] - 10s 100ms/step - loss: 0.4088 - acc: 0.8614 - val_loss: 3.0970 - val_acc: 0.3787\n",
            "Epoch 7/10\n",
            "92/92 [==============================] - 10s 99ms/step - loss: 0.3160 - acc: 0.8988 - val_loss: 3.7315 - val_acc: 0.3638\n",
            "Epoch 8/10\n",
            "92/92 [==============================] - 10s 99ms/step - loss: 0.2676 - acc: 0.9247 - val_loss: 3.8718 - val_acc: 0.3392\n",
            "Epoch 9/10\n",
            "92/92 [==============================] - 10s 100ms/step - loss: 0.3258 - acc: 0.8975 - val_loss: 3.6474 - val_acc: 0.3774\n",
            "Epoch 10/10\n",
            "92/92 [==============================] - 10s 99ms/step - loss: 0.2730 - acc: 0.9121 - val_loss: 4.0971 - val_acc: 0.3910\n"
          ]
        }
      ]
    },
    {
      "cell_type": "code",
      "metadata": {
        "id": "QUbmJl0RJxvW"
      },
      "source": [
        "num_classes = 5\n",
        "input_shape = (224,224,3)\n",
        "\n",
        "def func_model(num_classes, input_shape):\n",
        "    model_input = keras.Input(shape=input_shape, name=\"f_input\")\n",
        "    x = layers.Conv2D(16, 3,padding=\"same\", activation=\"relu\")(model_input)\n",
        "    x = layers.MaxPooling2D()(x)\n",
        "    x = layers.Conv2D(32, 3,padding=\"same\", activation=\"relu\")(x)\n",
        "    x = layers.MaxPooling2D()(x)\n",
        "    x = layers.Conv2D(64, 3,padding=\"same\", activation=\"relu\")(x)\n",
        "    x = layers.MaxPooling2D()(x)\n",
        "    x = layers.Flatten()(x)\n",
        "    x = layers.Dense(128,activation=\"relu\")(x)\n",
        "    model_output = layers.Dense(num_classes,activation=\"softmax\")(x)\n",
        "\n",
        "    return keras.Model(model_input, model_output, name=\"functional_model\")"
      ],
      "execution_count": null,
      "outputs": []
    },
    {
      "cell_type": "code",
      "metadata": {
        "id": "hFqQwzUZGX3e"
      },
      "source": [
        "functional_model = func_model(num_classes,input_shape)"
      ],
      "execution_count": null,
      "outputs": []
    },
    {
      "cell_type": "code",
      "metadata": {
        "colab": {
          "base_uri": "https://localhost:8080/"
        },
        "id": "IRAxTHW9Kbrx",
        "outputId": "9403bd1b-4c41-41e5-84c4-c9d61c71b644"
      },
      "source": [
        "functional_model.summary()"
      ],
      "execution_count": null,
      "outputs": [
        {
          "output_type": "stream",
          "name": "stdout",
          "text": [
            "Model: \"functional_model\"\n",
            "_________________________________________________________________\n",
            " Layer (type)                Output Shape              Param #   \n",
            "=================================================================\n",
            " f_input (InputLayer)        [(None, 224, 224, 3)]     0         \n",
            "                                                                 \n",
            " conv2d_3 (Conv2D)           (None, 224, 224, 16)      448       \n",
            "                                                                 \n",
            " max_pooling2d_3 (MaxPooling  (None, 112, 112, 16)     0         \n",
            " 2D)                                                             \n",
            "                                                                 \n",
            " conv2d_4 (Conv2D)           (None, 112, 112, 32)      4640      \n",
            "                                                                 \n",
            " max_pooling2d_4 (MaxPooling  (None, 56, 56, 32)       0         \n",
            " 2D)                                                             \n",
            "                                                                 \n",
            " conv2d_5 (Conv2D)           (None, 56, 56, 64)        18496     \n",
            "                                                                 \n",
            " max_pooling2d_5 (MaxPooling  (None, 28, 28, 64)       0         \n",
            " 2D)                                                             \n",
            "                                                                 \n",
            " flatten_1 (Flatten)         (None, 50176)             0         \n",
            "                                                                 \n",
            " dense_2 (Dense)             (None, 128)               6422656   \n",
            "                                                                 \n",
            " dense_3 (Dense)             (None, 5)                 645       \n",
            "                                                                 \n",
            "=================================================================\n",
            "Total params: 6,446,885\n",
            "Trainable params: 6,446,885\n",
            "Non-trainable params: 0\n",
            "_________________________________________________________________\n"
          ]
        }
      ]
    },
    {
      "cell_type": "code",
      "metadata": {
        "id": "vR198fdjKduj"
      },
      "source": [
        "class MyModel(tf.keras.Model):\n",
        "\n",
        "  def __init__(self,num_classes,input_shape):\n",
        "    super().__init__()\n",
        "    self.conv1 = layers.Conv2D(16, 3,padding=\"same\", activation=\"relu\",input_shape=input_shape)\n",
        "    self.conv2 = layers.Conv2D(32, 3,padding=\"same\", activation=\"relu\")\n",
        "    self.conv3 = layers.Conv2D(64, 3,padding=\"same\", activation=\"relu\")\n",
        "    self.maxpool2d = layers.MaxPooling2D()\n",
        "    self.flatten = layers.Flatten()\n",
        "    self.dense1 = layers.Dense(128,activation=\"relu\")\n",
        "    self.dense2 = layers.Dense(num_classes,activation=\"softmax\")\n",
        "    \n",
        "\n",
        "  def call(self, inputs):\n",
        "    x = self.conv1(inputs)\n",
        "    x = self.maxpool2d(x)\n",
        "    x = self.conv2(x)\n",
        "    x = self.maxpool2d(x)\n",
        "    x = self.conv3(x)\n",
        "    x = self.maxpool2d(x)\n",
        "\n",
        "    x = self.flatten(x)\n",
        "    x = self.dense1(x)\n",
        "    out = self.dense2(x)\n",
        "\n",
        "    return out\n",
        "\n",
        "subclass_model = MyModel(num_classes,input_shape)"
      ],
      "execution_count": null,
      "outputs": []
    },
    {
      "cell_type": "code",
      "metadata": {
        "id": "wwsgK1UGT2NK"
      },
      "source": [
        "subclass_model.compile(optimizer='Adam',\n",
        "              loss=tf.keras.losses.SparseCategoricalCrossentropy(from_logits=True),\n",
        "              metrics=['acc'])"
      ],
      "execution_count": null,
      "outputs": []
    },
    {
      "cell_type": "code",
      "metadata": {
        "colab": {
          "base_uri": "https://localhost:8080/"
        },
        "id": "9MrzxrazUC5B",
        "outputId": "8db7a25f-0ea3-424c-ba1c-f8eabf68ea38"
      },
      "source": [
        "epochs=10\n",
        "history = subclass_model.fit(\n",
        "  train_ds,\n",
        "  validation_data=val_ds,\n",
        "  epochs=epochs\n",
        ")"
      ],
      "execution_count": null,
      "outputs": [
        {
          "output_type": "stream",
          "name": "stdout",
          "text": [
            "Epoch 1/10\n"
          ]
        },
        {
          "output_type": "stream",
          "name": "stderr",
          "text": [
            "/usr/local/lib/python3.7/dist-packages/tensorflow/python/util/dispatch.py:1096: UserWarning: \"`sparse_categorical_crossentropy` received `from_logits=True`, but the `output` argument was produced by a sigmoid or softmax activation and thus does not represent logits. Was this intended?\"\n",
            "  return dispatch_target(*args, **kwargs)\n"
          ]
        },
        {
          "output_type": "stream",
          "name": "stdout",
          "text": [
            "92/92 [==============================] - 11s 103ms/step - loss: 34.1120 - acc: 0.2463 - val_loss: 1.5623 - val_acc: 0.3215\n",
            "Epoch 2/10\n",
            "92/92 [==============================] - 10s 99ms/step - loss: 1.4690 - acc: 0.3760 - val_loss: 1.5854 - val_acc: 0.3256\n",
            "Epoch 3/10\n",
            "92/92 [==============================] - 9s 98ms/step - loss: 1.3137 - acc: 0.4765 - val_loss: 1.8616 - val_acc: 0.3270\n",
            "Epoch 4/10\n",
            "92/92 [==============================] - 10s 99ms/step - loss: 1.0626 - acc: 0.5855 - val_loss: 2.4062 - val_acc: 0.3651\n",
            "Epoch 5/10\n",
            "92/92 [==============================] - 10s 99ms/step - loss: 0.8063 - acc: 0.6969 - val_loss: 2.5194 - val_acc: 0.3665\n",
            "Epoch 6/10\n",
            "92/92 [==============================] - 9s 98ms/step - loss: 0.5864 - acc: 0.7980 - val_loss: 2.7031 - val_acc: 0.4223\n",
            "Epoch 7/10\n",
            "92/92 [==============================] - 10s 98ms/step - loss: 0.4833 - acc: 0.8341 - val_loss: 3.9136 - val_acc: 0.3515\n",
            "Epoch 8/10\n",
            "92/92 [==============================] - 10s 99ms/step - loss: 0.3618 - acc: 0.8777 - val_loss: 3.1740 - val_acc: 0.4373\n",
            "Epoch 9/10\n",
            "92/92 [==============================] - 10s 100ms/step - loss: 0.2638 - acc: 0.9138 - val_loss: 3.6191 - val_acc: 0.4251\n",
            "Epoch 10/10\n",
            "92/92 [==============================] - 10s 99ms/step - loss: 0.2246 - acc: 0.9370 - val_loss: 3.6842 - val_acc: 0.4305\n"
          ]
        }
      ]
    },
    {
      "cell_type": "code",
      "metadata": {
        "id": "PMOIYZifUGL9"
      },
      "source": [
        "num_classes = 5\n",
        "input_shape = (224,224,3)\n",
        "\n",
        "model_input = keras.Input(shape=(224, 224,3), name=\"f_input\")\n",
        "x1 = layers.Conv2D(16, 3,padding=\"same\", activation=\"relu\")(model_input)\n",
        "x1 = layers.MaxPooling2D()(x1)\n",
        "x2 = layers.Conv2D(32, 3,padding=\"same\", activation=\"relu\")(x1)\n",
        "x2 = layers.MaxPooling2D()(x2)\n",
        "x3 = layers.Conv2D(64, 3,padding=\"same\", activation=\"relu\")(x1)\n",
        "x3 = layers.MaxPooling2D()(x3)\n",
        "flat2 = layers.Flatten()(x2)\n",
        "flat3 = layers.Flatten()(x3)\n",
        "d1 = layers.Dense(128,activation=\"relu\")(flat2)\n",
        "d2 = layers.Dense(num_classes,activation=\"softmax\")(flat3)\n",
        "\n",
        "functional_model = keras.Model(model_input, (d1,d2))"
      ],
      "execution_count": null,
      "outputs": []
    },
    {
      "cell_type": "code",
      "metadata": {
        "colab": {
          "base_uri": "https://localhost:8080/"
        },
        "id": "UFPURdZGYKNG",
        "outputId": "3ffa684f-fe6a-4070-fb0c-c56c4e0c1764"
      },
      "source": [
        "functional_model.summary()"
      ],
      "execution_count": null,
      "outputs": [
        {
          "output_type": "stream",
          "name": "stdout",
          "text": [
            "Model: \"model\"\n",
            "__________________________________________________________________________________________________\n",
            " Layer (type)                   Output Shape         Param #     Connected to                     \n",
            "==================================================================================================\n",
            " f_input (InputLayer)           [(None, 224, 224, 3  0           []                               \n",
            "                                )]                                                                \n",
            "                                                                                                  \n",
            " conv2d_9 (Conv2D)              (None, 224, 224, 16  448         ['f_input[0][0]']                \n",
            "                                )                                                                 \n",
            "                                                                                                  \n",
            " max_pooling2d_7 (MaxPooling2D)  (None, 112, 112, 16  0          ['conv2d_9[0][0]']               \n",
            "                                )                                                                 \n",
            "                                                                                                  \n",
            " conv2d_10 (Conv2D)             (None, 112, 112, 32  4640        ['max_pooling2d_7[0][0]']        \n",
            "                                )                                                                 \n",
            "                                                                                                  \n",
            " conv2d_11 (Conv2D)             (None, 112, 112, 64  9280        ['max_pooling2d_7[0][0]']        \n",
            "                                )                                                                 \n",
            "                                                                                                  \n",
            " max_pooling2d_8 (MaxPooling2D)  (None, 56, 56, 32)  0           ['conv2d_10[0][0]']              \n",
            "                                                                                                  \n",
            " max_pooling2d_9 (MaxPooling2D)  (None, 56, 56, 64)  0           ['conv2d_11[0][0]']              \n",
            "                                                                                                  \n",
            " flatten_3 (Flatten)            (None, 100352)       0           ['max_pooling2d_8[0][0]']        \n",
            "                                                                                                  \n",
            " flatten_4 (Flatten)            (None, 200704)       0           ['max_pooling2d_9[0][0]']        \n",
            "                                                                                                  \n",
            " dense_6 (Dense)                (None, 128)          12845184    ['flatten_3[0][0]']              \n",
            "                                                                                                  \n",
            " dense_7 (Dense)                (None, 5)            1003525     ['flatten_4[0][0]']              \n",
            "                                                                                                  \n",
            "==================================================================================================\n",
            "Total params: 13,863,077\n",
            "Trainable params: 13,863,077\n",
            "Non-trainable params: 0\n",
            "__________________________________________________________________________________________________\n"
          ]
        }
      ]
    },
    {
      "cell_type": "code",
      "metadata": {
        "id": "H4dWA_ddYLis"
      },
      "source": [
        "num_classes = 5\n",
        "input_shape = (224,224,3)\n",
        "\n",
        "model_input = keras.Input(shape=(224, 224,3), name=\"f_input\")\n",
        "x1 = layers.Conv2D(16, 3,padding=\"same\", activation=\"relu\")(model_input)\n",
        "x1 = layers.MaxPooling2D()(x1)\n",
        "x2 = layers.Conv2D(32, 3,padding=\"same\", activation=\"relu\")(x1)\n",
        "x2 = layers.MaxPooling2D()(x2)\n",
        "x3 = layers.Conv2D(64, 3,padding=\"same\", activation=\"relu\")(x1)\n",
        "x3 = layers.MaxPooling2D()(x3)\n",
        "\n",
        "con1 = layers.Concatenate()([x2,x3])\n",
        "flat = layers.Flatten()(con1)\n",
        "\n",
        "d1 = layers.Dense(128,activation=\"relu\")(flat)\n",
        "d2 = layers.Dense(num_classes,activation=\"softmax\")(d1)\n",
        "\n",
        "functional_model = keras.Model(model_input, d2)"
      ],
      "execution_count": null,
      "outputs": []
    },
    {
      "cell_type": "code",
      "metadata": {
        "colab": {
          "base_uri": "https://localhost:8080/"
        },
        "id": "dFDP2fqRZ5FS",
        "outputId": "16937b64-22f7-4746-d785-d6cd8b7b8476"
      },
      "source": [
        "functional_model.summary()"
      ],
      "execution_count": null,
      "outputs": [
        {
          "output_type": "stream",
          "name": "stdout",
          "text": [
            "Model: \"model_1\"\n",
            "__________________________________________________________________________________________________\n",
            " Layer (type)                   Output Shape         Param #     Connected to                     \n",
            "==================================================================================================\n",
            " f_input (InputLayer)           [(None, 224, 224, 3  0           []                               \n",
            "                                )]                                                                \n",
            "                                                                                                  \n",
            " conv2d_12 (Conv2D)             (None, 224, 224, 16  448         ['f_input[0][0]']                \n",
            "                                )                                                                 \n",
            "                                                                                                  \n",
            " max_pooling2d_10 (MaxPooling2D  (None, 112, 112, 16  0          ['conv2d_12[0][0]']              \n",
            " )                              )                                                                 \n",
            "                                                                                                  \n",
            " conv2d_13 (Conv2D)             (None, 112, 112, 32  4640        ['max_pooling2d_10[0][0]']       \n",
            "                                )                                                                 \n",
            "                                                                                                  \n",
            " conv2d_14 (Conv2D)             (None, 112, 112, 64  9280        ['max_pooling2d_10[0][0]']       \n",
            "                                )                                                                 \n",
            "                                                                                                  \n",
            " max_pooling2d_11 (MaxPooling2D  (None, 56, 56, 32)  0           ['conv2d_13[0][0]']              \n",
            " )                                                                                                \n",
            "                                                                                                  \n",
            " max_pooling2d_12 (MaxPooling2D  (None, 56, 56, 64)  0           ['conv2d_14[0][0]']              \n",
            " )                                                                                                \n",
            "                                                                                                  \n",
            " concatenate (Concatenate)      (None, 56, 56, 96)   0           ['max_pooling2d_11[0][0]',       \n",
            "                                                                  'max_pooling2d_12[0][0]']       \n",
            "                                                                                                  \n",
            " flatten_5 (Flatten)            (None, 301056)       0           ['concatenate[0][0]']            \n",
            "                                                                                                  \n",
            " dense_8 (Dense)                (None, 128)          38535296    ['flatten_5[0][0]']              \n",
            "                                                                                                  \n",
            " dense_9 (Dense)                (None, 5)            645         ['dense_8[0][0]']                \n",
            "                                                                                                  \n",
            "==================================================================================================\n",
            "Total params: 38,550,309\n",
            "Trainable params: 38,550,309\n",
            "Non-trainable params: 0\n",
            "__________________________________________________________________________________________________\n"
          ]
        }
      ]
    },
    {
      "cell_type": "code",
      "metadata": {
        "id": "zS93xvu3Z6y8"
      },
      "source": [
        "num_classes = 5\n",
        "input_shape = (224,224,3)\n",
        "\n",
        "model_input = keras.Input(shape=(224, 224,3), name=\"f_input\")\n",
        "conv_1x1 = layers.Conv2D(64, (1,1),padding=\"same\", activation=\"relu\")(model_input)\n",
        "conv_3x3 = layers.Conv2D(128, (3,3),padding=\"same\", activation=\"relu\")(model_input)\n",
        "conv_5x5 = layers.Conv2D(32, (5,5),padding=\"same\", activation=\"relu\")(model_input)\n",
        "maxpool_3x3 = layers.MaxPooling2D(pool_size=(3,3),strides=(1,1),padding=\"same\")(model_input)\n",
        "con1 = layers.Concatenate()([conv_1x1,conv_3x3,conv_5x5,maxpool_3x3])\n",
        "\n",
        "functional_model = keras.Model(model_input, con1, name=\"functional_model\")"
      ],
      "execution_count": null,
      "outputs": []
    },
    {
      "cell_type": "code",
      "metadata": {
        "colab": {
          "base_uri": "https://localhost:8080/"
        },
        "id": "pCDY3kPdiv1r",
        "outputId": "76595407-96a1-4d46-a22f-277246296218"
      },
      "source": [
        "functional_model.summary()"
      ],
      "execution_count": null,
      "outputs": [
        {
          "output_type": "stream",
          "name": "stdout",
          "text": [
            "Model: \"functional_model\"\n",
            "__________________________________________________________________________________________________\n",
            " Layer (type)                   Output Shape         Param #     Connected to                     \n",
            "==================================================================================================\n",
            " f_input (InputLayer)           [(None, 224, 224, 3  0           []                               \n",
            "                                )]                                                                \n",
            "                                                                                                  \n",
            " conv2d_15 (Conv2D)             (None, 224, 224, 64  256         ['f_input[0][0]']                \n",
            "                                )                                                                 \n",
            "                                                                                                  \n",
            " conv2d_16 (Conv2D)             (None, 224, 224, 12  3584        ['f_input[0][0]']                \n",
            "                                8)                                                                \n",
            "                                                                                                  \n",
            " conv2d_17 (Conv2D)             (None, 224, 224, 32  2432        ['f_input[0][0]']                \n",
            "                                )                                                                 \n",
            "                                                                                                  \n",
            " max_pooling2d_13 (MaxPooling2D  (None, 224, 224, 3)  0          ['f_input[0][0]']                \n",
            " )                                                                                                \n",
            "                                                                                                  \n",
            " concatenate_1 (Concatenate)    (None, 224, 224, 22  0           ['conv2d_15[0][0]',              \n",
            "                                7)                                'conv2d_16[0][0]',              \n",
            "                                                                  'conv2d_17[0][0]',              \n",
            "                                                                  'max_pooling2d_13[0][0]']       \n",
            "                                                                                                  \n",
            "==================================================================================================\n",
            "Total params: 6,272\n",
            "Trainable params: 6,272\n",
            "Non-trainable params: 0\n",
            "__________________________________________________________________________________________________\n"
          ]
        }
      ]
    },
    {
      "cell_type": "code",
      "metadata": {
        "id": "anXgif_fjdYo"
      },
      "source": [
        "'''\n",
        "GoogLeNet 코드 작성\n",
        "functional API, subclass model 중 원하는 방식으로 구현\n",
        "함수를 사용하면 보다 간편하게 구현 가능\n",
        "'''\n",
        "def inception_module(input_layer,filter1=64,filter3_R=96, filter3=128, filter5_R=16, filter5=32, filter_P=32): # default는 a3_inception 값으로\n",
        "  model_input = keras.Input(input_layer.shape[1:], name=\"module_input\")\n",
        "  conv_1x1 = layers.Conv2D(filter1, (1,1),padding=\"same\", activation=\"relu\")(input_layer) # 64\n",
        "\n",
        "  conv_3x3 = layers.Conv2D(filter3_R, (1,1),padding=\"same\", activation=\"relu\")(input_layer) # 1x1 Conv 진행\n",
        "  conv_3x3 = layers.Conv2D(filter3, (3,3),padding=\"same\", activation=\"relu\")(conv_3x3) # 128\n",
        "\n",
        "  conv_5x5 = layers.Conv2D(filter5_R, (1,1),padding=\"same\", activation=\"relu\")(input_layer) # 1x1 Conv 진행\n",
        "  conv_5x5 = layers.Conv2D(filter5, (5,5),padding=\"same\", activation=\"relu\")(conv_5x5) # 32\n",
        "\n",
        "  maxpool_3x3 = layers.MaxPooling2D(pool_size=(3,3),strides=(1,1),padding=\"same\")(input_layer)\n",
        "  maxpool_3x3 = layers.Conv2D(filter_P, (1,1),padding=\"same\", activation=\"relu\")(maxpool_3x3) # 32\n",
        "\n",
        "  con1 = layers.Concatenate()([conv_1x1,conv_3x3,conv_5x5,maxpool_3x3])\n",
        "\n",
        "  return con1"
      ],
      "execution_count": 26,
      "outputs": []
    },
    {
      "cell_type": "code",
      "metadata": {
        "id": "F-0gKdqFqW6m",
        "colab": {
          "base_uri": "https://localhost:8080/"
        },
        "outputId": "5e13607f-5abc-4dc2-b970-b6d9d1a9b1da"
      },
      "source": [
        "input_shape = (224,224,3)\n",
        "model_input = keras.Input((input_shape[0], input_shape[1], input_shape[2]), name=\"f_input\")\n",
        "\n",
        "### Part 1 ###\n",
        "x1 = layers.Conv2D(64, 7, strides=(2,2), padding=\"same\", activation=\"relu\")(model_input)\n",
        "x2 = layers.MaxPool2D()(x1)\n",
        "x2 = layers.LayerNormalization()(x2) # Normalization\n",
        "x3 = layers.Conv2D(192, 1, padding=\"same\", activation=\"relu\")(x2) # 1x1 Conv\n",
        "x3 = layers.Conv2D(192, 3, padding=\"same\", activation=\"relu\")(x2) # 3x3 Conv\n",
        "x3 = layers.LayerNormalization()(x3) # Normalization\n",
        "x4 = layers.MaxPool2D()(x3)\n",
        "\n",
        "### 모델 확인을 위한 출력\n",
        "part1_model = keras.Model(model_input, x4, name=\"part1_model\")\n",
        "part1_model.summary()\n",
        "\n",
        "### Part 2 ###\n",
        "a3 = inception_module(x4)\n",
        "b3 = inception_module(a3, 128, 128, 192, 32, 96, 64)\n",
        "x5 = layers.MaxPool2D()(b3)\n",
        "\n",
        "### Part 3 ###\n",
        "a4 = inception_module(x5, 192, 96, 208, 16, 48, 64)\n",
        "\n",
        "# Auxliary layer\n",
        "branch1 = layers.AveragePooling2D((5, 5), strides=(3, 3))(a4) # Avg Pooling\n",
        "branch1 = layers.Conv2D(128, 1, padding=\"same\", activation=\"relu\")(branch1) # 1x1 Conv\n",
        "branch1 = layers.Flatten()(branch1) # Flatten\n",
        "branch1 = layers.Dense(1000, activation = 'relu')(branch1) \n",
        "branch1 = layers.Dense(5, activation = 'softmax')(branch1) # 5 \n",
        "\n",
        "b4 = inception_module(a4, 160, 112, 224, 24, 64, 64)\n",
        "c4 = inception_module(b4, 128, 128, 256, 24, 64, 64)\n",
        "d4 = inception_module(c4, 112, 144, 288, 32, 64, 64)\n",
        "\n",
        "# Auxliary layer\n",
        "branch2 = layers.AveragePooling2D((5, 5), strides=(3, 3))(d4) # Avg Pooling\n",
        "branch2 = layers.Conv2D(128, 1, padding=\"same\", activation=\"relu\")(branch2) # 1x1 Conv\n",
        "branch2 = layers.Flatten()(branch2) # Flatten\n",
        "branch2 = layers.Dense(1000, activation = 'relu')(branch2) \n",
        "branch2 = layers.Dense(5, activation = 'softmax')(branch2) # 5 \n",
        "\n",
        "e4 = inception_module(d4, 256, 160, 320, 32, 128, 128)\n",
        "x6 = layers.MaxPool2D()(e4)\n",
        "\n",
        "### Part 4 ###\n",
        "a5 = inception_module(x6, 256, 160, 320, 32, 128, 128)\n",
        "b5 = inception_module(a5, 384, 192, 384, 48, 128, 128)\n",
        "\n",
        "### Part 5 ###\n",
        "x7 = layers.AveragePooling2D((7, 7), strides=(1, 1))(b5) # Avg Pooling\n",
        "x7 = layers.Flatten()(x7) # Flatten\n",
        "x8 = layers.Dropout(0.4)(x7) # Dropout 40%\n",
        "x9 = layers.Dense(1000, activation = 'relu')(x8) \n",
        "x10 = layers.Dense(5, activation = 'softmax')(x9) # 5 \n",
        "\n",
        "functional_model = keras.Model(model_input, x10, name=\"ggn_model\")\n",
        "functional_model.summary()"
      ],
      "execution_count": 27,
      "outputs": [
        {
          "output_type": "stream",
          "name": "stdout",
          "text": [
            "Model: \"part1_model\"\n",
            "_________________________________________________________________\n",
            " Layer (type)                Output Shape              Param #   \n",
            "=================================================================\n",
            " f_input (InputLayer)        [(None, 224, 224, 3)]     0         \n",
            "                                                                 \n",
            " conv2d_136 (Conv2D)         (None, 112, 112, 64)      9472      \n",
            "                                                                 \n",
            " max_pooling2d_40 (MaxPoolin  (None, 56, 56, 64)       0         \n",
            " g2D)                                                            \n",
            "                                                                 \n",
            " layer_normalization_4 (Laye  (None, 56, 56, 64)       128       \n",
            " rNormalization)                                                 \n",
            "                                                                 \n",
            " conv2d_138 (Conv2D)         (None, 56, 56, 192)       110784    \n",
            "                                                                 \n",
            " layer_normalization_5 (Laye  (None, 56, 56, 192)      384       \n",
            " rNormalization)                                                 \n",
            "                                                                 \n",
            " max_pooling2d_41 (MaxPoolin  (None, 28, 28, 192)      0         \n",
            " g2D)                                                            \n",
            "                                                                 \n",
            "=================================================================\n",
            "Total params: 120,768\n",
            "Trainable params: 120,768\n",
            "Non-trainable params: 0\n",
            "_________________________________________________________________\n",
            "Model: \"ggn_model\"\n",
            "__________________________________________________________________________________________________\n",
            " Layer (type)                   Output Shape         Param #     Connected to                     \n",
            "==================================================================================================\n",
            " f_input (InputLayer)           [(None, 224, 224, 3  0           []                               \n",
            "                                )]                                                                \n",
            "                                                                                                  \n",
            " conv2d_136 (Conv2D)            (None, 112, 112, 64  9472        ['f_input[0][0]']                \n",
            "                                )                                                                 \n",
            "                                                                                                  \n",
            " max_pooling2d_40 (MaxPooling2D  (None, 56, 56, 64)  0           ['conv2d_136[0][0]']             \n",
            " )                                                                                                \n",
            "                                                                                                  \n",
            " layer_normalization_4 (LayerNo  (None, 56, 56, 64)  128         ['max_pooling2d_40[0][0]']       \n",
            " rmalization)                                                                                     \n",
            "                                                                                                  \n",
            " conv2d_138 (Conv2D)            (None, 56, 56, 192)  110784      ['layer_normalization_4[0][0]']  \n",
            "                                                                                                  \n",
            " layer_normalization_5 (LayerNo  (None, 56, 56, 192)  384        ['conv2d_138[0][0]']             \n",
            " rmalization)                                                                                     \n",
            "                                                                                                  \n",
            " max_pooling2d_41 (MaxPooling2D  (None, 28, 28, 192)  0          ['layer_normalization_5[0][0]']  \n",
            " )                                                                                                \n",
            "                                                                                                  \n",
            " conv2d_140 (Conv2D)            (None, 28, 28, 96)   18528       ['max_pooling2d_41[0][0]']       \n",
            "                                                                                                  \n",
            " conv2d_142 (Conv2D)            (None, 28, 28, 16)   3088        ['max_pooling2d_41[0][0]']       \n",
            "                                                                                                  \n",
            " max_pooling2d_42 (MaxPooling2D  (None, 28, 28, 192)  0          ['max_pooling2d_41[0][0]']       \n",
            " )                                                                                                \n",
            "                                                                                                  \n",
            " conv2d_139 (Conv2D)            (None, 28, 28, 64)   12352       ['max_pooling2d_41[0][0]']       \n",
            "                                                                                                  \n",
            " conv2d_141 (Conv2D)            (None, 28, 28, 128)  110720      ['conv2d_140[0][0]']             \n",
            "                                                                                                  \n",
            " conv2d_143 (Conv2D)            (None, 28, 28, 32)   12832       ['conv2d_142[0][0]']             \n",
            "                                                                                                  \n",
            " conv2d_144 (Conv2D)            (None, 28, 28, 32)   6176        ['max_pooling2d_42[0][0]']       \n",
            "                                                                                                  \n",
            " concatenate_20 (Concatenate)   (None, 28, 28, 256)  0           ['conv2d_139[0][0]',             \n",
            "                                                                  'conv2d_141[0][0]',             \n",
            "                                                                  'conv2d_143[0][0]',             \n",
            "                                                                  'conv2d_144[0][0]']             \n",
            "                                                                                                  \n",
            " conv2d_146 (Conv2D)            (None, 28, 28, 128)  32896       ['concatenate_20[0][0]']         \n",
            "                                                                                                  \n",
            " conv2d_148 (Conv2D)            (None, 28, 28, 32)   8224        ['concatenate_20[0][0]']         \n",
            "                                                                                                  \n",
            " max_pooling2d_43 (MaxPooling2D  (None, 28, 28, 256)  0          ['concatenate_20[0][0]']         \n",
            " )                                                                                                \n",
            "                                                                                                  \n",
            " conv2d_145 (Conv2D)            (None, 28, 28, 128)  32896       ['concatenate_20[0][0]']         \n",
            "                                                                                                  \n",
            " conv2d_147 (Conv2D)            (None, 28, 28, 192)  221376      ['conv2d_146[0][0]']             \n",
            "                                                                                                  \n",
            " conv2d_149 (Conv2D)            (None, 28, 28, 96)   76896       ['conv2d_148[0][0]']             \n",
            "                                                                                                  \n",
            " conv2d_150 (Conv2D)            (None, 28, 28, 64)   16448       ['max_pooling2d_43[0][0]']       \n",
            "                                                                                                  \n",
            " concatenate_21 (Concatenate)   (None, 28, 28, 480)  0           ['conv2d_145[0][0]',             \n",
            "                                                                  'conv2d_147[0][0]',             \n",
            "                                                                  'conv2d_149[0][0]',             \n",
            "                                                                  'conv2d_150[0][0]']             \n",
            "                                                                                                  \n",
            " max_pooling2d_44 (MaxPooling2D  (None, 14, 14, 480)  0          ['concatenate_21[0][0]']         \n",
            " )                                                                                                \n",
            "                                                                                                  \n",
            " conv2d_152 (Conv2D)            (None, 14, 14, 96)   46176       ['max_pooling2d_44[0][0]']       \n",
            "                                                                                                  \n",
            " conv2d_154 (Conv2D)            (None, 14, 14, 16)   7696        ['max_pooling2d_44[0][0]']       \n",
            "                                                                                                  \n",
            " max_pooling2d_45 (MaxPooling2D  (None, 14, 14, 480)  0          ['max_pooling2d_44[0][0]']       \n",
            " )                                                                                                \n",
            "                                                                                                  \n",
            " conv2d_151 (Conv2D)            (None, 14, 14, 192)  92352       ['max_pooling2d_44[0][0]']       \n",
            "                                                                                                  \n",
            " conv2d_153 (Conv2D)            (None, 14, 14, 208)  179920      ['conv2d_152[0][0]']             \n",
            "                                                                                                  \n",
            " conv2d_155 (Conv2D)            (None, 14, 14, 48)   19248       ['conv2d_154[0][0]']             \n",
            "                                                                                                  \n",
            " conv2d_156 (Conv2D)            (None, 14, 14, 64)   30784       ['max_pooling2d_45[0][0]']       \n",
            "                                                                                                  \n",
            " concatenate_22 (Concatenate)   (None, 14, 14, 512)  0           ['conv2d_151[0][0]',             \n",
            "                                                                  'conv2d_153[0][0]',             \n",
            "                                                                  'conv2d_155[0][0]',             \n",
            "                                                                  'conv2d_156[0][0]']             \n",
            "                                                                                                  \n",
            " conv2d_159 (Conv2D)            (None, 14, 14, 112)  57456       ['concatenate_22[0][0]']         \n",
            "                                                                                                  \n",
            " conv2d_161 (Conv2D)            (None, 14, 14, 24)   12312       ['concatenate_22[0][0]']         \n",
            "                                                                                                  \n",
            " max_pooling2d_46 (MaxPooling2D  (None, 14, 14, 512)  0          ['concatenate_22[0][0]']         \n",
            " )                                                                                                \n",
            "                                                                                                  \n",
            " conv2d_158 (Conv2D)            (None, 14, 14, 160)  82080       ['concatenate_22[0][0]']         \n",
            "                                                                                                  \n",
            " conv2d_160 (Conv2D)            (None, 14, 14, 224)  226016      ['conv2d_159[0][0]']             \n",
            "                                                                                                  \n",
            " conv2d_162 (Conv2D)            (None, 14, 14, 64)   38464       ['conv2d_161[0][0]']             \n",
            "                                                                                                  \n",
            " conv2d_163 (Conv2D)            (None, 14, 14, 64)   32832       ['max_pooling2d_46[0][0]']       \n",
            "                                                                                                  \n",
            " concatenate_23 (Concatenate)   (None, 14, 14, 512)  0           ['conv2d_158[0][0]',             \n",
            "                                                                  'conv2d_160[0][0]',             \n",
            "                                                                  'conv2d_162[0][0]',             \n",
            "                                                                  'conv2d_163[0][0]']             \n",
            "                                                                                                  \n",
            " conv2d_165 (Conv2D)            (None, 14, 14, 128)  65664       ['concatenate_23[0][0]']         \n",
            "                                                                                                  \n",
            " conv2d_167 (Conv2D)            (None, 14, 14, 24)   12312       ['concatenate_23[0][0]']         \n",
            "                                                                                                  \n",
            " max_pooling2d_47 (MaxPooling2D  (None, 14, 14, 512)  0          ['concatenate_23[0][0]']         \n",
            " )                                                                                                \n",
            "                                                                                                  \n",
            " conv2d_164 (Conv2D)            (None, 14, 14, 128)  65664       ['concatenate_23[0][0]']         \n",
            "                                                                                                  \n",
            " conv2d_166 (Conv2D)            (None, 14, 14, 256)  295168      ['conv2d_165[0][0]']             \n",
            "                                                                                                  \n",
            " conv2d_168 (Conv2D)            (None, 14, 14, 64)   38464       ['conv2d_167[0][0]']             \n",
            "                                                                                                  \n",
            " conv2d_169 (Conv2D)            (None, 14, 14, 64)   32832       ['max_pooling2d_47[0][0]']       \n",
            "                                                                                                  \n",
            " concatenate_24 (Concatenate)   (None, 14, 14, 512)  0           ['conv2d_164[0][0]',             \n",
            "                                                                  'conv2d_166[0][0]',             \n",
            "                                                                  'conv2d_168[0][0]',             \n",
            "                                                                  'conv2d_169[0][0]']             \n",
            "                                                                                                  \n",
            " conv2d_171 (Conv2D)            (None, 14, 14, 144)  73872       ['concatenate_24[0][0]']         \n",
            "                                                                                                  \n",
            " conv2d_173 (Conv2D)            (None, 14, 14, 32)   16416       ['concatenate_24[0][0]']         \n",
            "                                                                                                  \n",
            " max_pooling2d_48 (MaxPooling2D  (None, 14, 14, 512)  0          ['concatenate_24[0][0]']         \n",
            " )                                                                                                \n",
            "                                                                                                  \n",
            " conv2d_170 (Conv2D)            (None, 14, 14, 112)  57456       ['concatenate_24[0][0]']         \n",
            "                                                                                                  \n",
            " conv2d_172 (Conv2D)            (None, 14, 14, 288)  373536      ['conv2d_171[0][0]']             \n",
            "                                                                                                  \n",
            " conv2d_174 (Conv2D)            (None, 14, 14, 64)   51264       ['conv2d_173[0][0]']             \n",
            "                                                                                                  \n",
            " conv2d_175 (Conv2D)            (None, 14, 14, 64)   32832       ['max_pooling2d_48[0][0]']       \n",
            "                                                                                                  \n",
            " concatenate_25 (Concatenate)   (None, 14, 14, 528)  0           ['conv2d_170[0][0]',             \n",
            "                                                                  'conv2d_172[0][0]',             \n",
            "                                                                  'conv2d_174[0][0]',             \n",
            "                                                                  'conv2d_175[0][0]']             \n",
            "                                                                                                  \n",
            " conv2d_178 (Conv2D)            (None, 14, 14, 160)  84640       ['concatenate_25[0][0]']         \n",
            "                                                                                                  \n",
            " conv2d_180 (Conv2D)            (None, 14, 14, 32)   16928       ['concatenate_25[0][0]']         \n",
            "                                                                                                  \n",
            " max_pooling2d_49 (MaxPooling2D  (None, 14, 14, 528)  0          ['concatenate_25[0][0]']         \n",
            " )                                                                                                \n",
            "                                                                                                  \n",
            " conv2d_177 (Conv2D)            (None, 14, 14, 256)  135424      ['concatenate_25[0][0]']         \n",
            "                                                                                                  \n",
            " conv2d_179 (Conv2D)            (None, 14, 14, 320)  461120      ['conv2d_178[0][0]']             \n",
            "                                                                                                  \n",
            " conv2d_181 (Conv2D)            (None, 14, 14, 128)  102528      ['conv2d_180[0][0]']             \n",
            "                                                                                                  \n",
            " conv2d_182 (Conv2D)            (None, 14, 14, 128)  67712       ['max_pooling2d_49[0][0]']       \n",
            "                                                                                                  \n",
            " concatenate_26 (Concatenate)   (None, 14, 14, 832)  0           ['conv2d_177[0][0]',             \n",
            "                                                                  'conv2d_179[0][0]',             \n",
            "                                                                  'conv2d_181[0][0]',             \n",
            "                                                                  'conv2d_182[0][0]']             \n",
            "                                                                                                  \n",
            " max_pooling2d_50 (MaxPooling2D  (None, 7, 7, 832)   0           ['concatenate_26[0][0]']         \n",
            " )                                                                                                \n",
            "                                                                                                  \n",
            " conv2d_184 (Conv2D)            (None, 7, 7, 160)    133280      ['max_pooling2d_50[0][0]']       \n",
            "                                                                                                  \n",
            " conv2d_186 (Conv2D)            (None, 7, 7, 32)     26656       ['max_pooling2d_50[0][0]']       \n",
            "                                                                                                  \n",
            " max_pooling2d_51 (MaxPooling2D  (None, 7, 7, 832)   0           ['max_pooling2d_50[0][0]']       \n",
            " )                                                                                                \n",
            "                                                                                                  \n",
            " conv2d_183 (Conv2D)            (None, 7, 7, 256)    213248      ['max_pooling2d_50[0][0]']       \n",
            "                                                                                                  \n",
            " conv2d_185 (Conv2D)            (None, 7, 7, 320)    461120      ['conv2d_184[0][0]']             \n",
            "                                                                                                  \n",
            " conv2d_187 (Conv2D)            (None, 7, 7, 128)    102528      ['conv2d_186[0][0]']             \n",
            "                                                                                                  \n",
            " conv2d_188 (Conv2D)            (None, 7, 7, 128)    106624      ['max_pooling2d_51[0][0]']       \n",
            "                                                                                                  \n",
            " concatenate_27 (Concatenate)   (None, 7, 7, 832)    0           ['conv2d_183[0][0]',             \n",
            "                                                                  'conv2d_185[0][0]',             \n",
            "                                                                  'conv2d_187[0][0]',             \n",
            "                                                                  'conv2d_188[0][0]']             \n",
            "                                                                                                  \n",
            " conv2d_190 (Conv2D)            (None, 7, 7, 192)    159936      ['concatenate_27[0][0]']         \n",
            "                                                                                                  \n",
            " conv2d_192 (Conv2D)            (None, 7, 7, 48)     39984       ['concatenate_27[0][0]']         \n",
            "                                                                                                  \n",
            " max_pooling2d_52 (MaxPooling2D  (None, 7, 7, 832)   0           ['concatenate_27[0][0]']         \n",
            " )                                                                                                \n",
            "                                                                                                  \n",
            " conv2d_189 (Conv2D)            (None, 7, 7, 384)    319872      ['concatenate_27[0][0]']         \n",
            "                                                                                                  \n",
            " conv2d_191 (Conv2D)            (None, 7, 7, 384)    663936      ['conv2d_190[0][0]']             \n",
            "                                                                                                  \n",
            " conv2d_193 (Conv2D)            (None, 7, 7, 128)    153728      ['conv2d_192[0][0]']             \n",
            "                                                                                                  \n",
            " conv2d_194 (Conv2D)            (None, 7, 7, 128)    106624      ['max_pooling2d_52[0][0]']       \n",
            "                                                                                                  \n",
            " concatenate_28 (Concatenate)   (None, 7, 7, 1024)   0           ['conv2d_189[0][0]',             \n",
            "                                                                  'conv2d_191[0][0]',             \n",
            "                                                                  'conv2d_193[0][0]',             \n",
            "                                                                  'conv2d_194[0][0]']             \n",
            "                                                                                                  \n",
            " average_pooling2d_8 (AveragePo  (None, 1, 1, 1024)  0           ['concatenate_28[0][0]']         \n",
            " oling2D)                                                                                         \n",
            "                                                                                                  \n",
            " flatten_14 (Flatten)           (None, 1024)         0           ['average_pooling2d_8[0][0]']    \n",
            "                                                                                                  \n",
            " dropout_2 (Dropout)            (None, 1024)         0           ['flatten_14[0][0]']             \n",
            "                                                                                                  \n",
            " dense_26 (Dense)               (None, 1000)         1025000     ['dropout_2[0][0]']              \n",
            "                                                                                                  \n",
            " dense_27 (Dense)               (None, 5)            5005        ['dense_26[0][0]']               \n",
            "                                                                                                  \n",
            "==================================================================================================\n",
            "Total params: 6,999,909\n",
            "Trainable params: 6,999,909\n",
            "Non-trainable params: 0\n",
            "__________________________________________________________________________________________________\n"
          ]
        }
      ]
    }
  ]
}